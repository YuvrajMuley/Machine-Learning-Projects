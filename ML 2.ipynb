{
 "cells": [
  {
   "cell_type": "code",
   "execution_count": 46,
   "id": "7d9bbe7f-cd27-4611-9f25-a391a1eef58e",
   "metadata": {},
   "outputs": [
    {
     "name": "stdout",
     "output_type": "stream",
     "text": [
      "     YEAR    JAN    FEB    MAR    APR    MAY    JUN    JUL    AUG    SEP  \\\n",
      "0    1901  22.40  24.14  29.07  31.91  33.41  33.18  31.21  30.39  30.47   \n",
      "1    1902  24.93  26.58  29.77  31.78  33.73  32.91  30.92  30.73  29.80   \n",
      "2    1903  23.44  25.03  27.83  31.39  32.91  33.00  31.34  29.98  29.85   \n",
      "3    1904  22.50  24.73  28.21  32.02  32.64  32.07  30.36  30.09  30.04   \n",
      "4    1905  22.00  22.83  26.68  30.01  33.32  33.25  31.44  30.68  30.12   \n",
      "..    ...    ...    ...    ...    ...    ...    ...    ...    ...    ...   \n",
      "112  2013  24.56  26.59  30.62  32.66  34.46  32.44  31.07  30.76  31.04   \n",
      "113  2014  23.83  25.97  28.95  32.74  33.77  34.15  31.85  31.32  30.68   \n",
      "114  2015  24.58  26.89  29.07  31.87  34.09  32.48  31.88  31.52  31.55   \n",
      "115  2016  26.94  29.72  32.62  35.38  35.72  34.03  31.64  31.79  31.66   \n",
      "116  2017  26.45  29.46  31.60  34.95  35.84  33.82  31.88  31.72  32.22   \n",
      "\n",
      "       OCT    NOV    DEC  ANNUAL  JAN-FEB  MAR-MAY  JUN-SEP  OCT-DEC  \n",
      "0    29.97  27.31  24.49   28.96    23.27    31.46    31.27    27.25  \n",
      "1    29.12  26.31  24.04   29.22    25.75    31.76    31.09    26.49  \n",
      "2    29.04  26.08  23.65   28.47    24.24    30.71    30.92    26.26  \n",
      "3    29.20  26.36  23.63   28.49    23.62    30.95    30.66    26.40  \n",
      "4    30.67  27.52  23.82   28.30    22.25    30.00    31.33    26.57  \n",
      "..     ...    ...    ...     ...      ...      ...      ...      ...  \n",
      "112  30.27  27.83  25.37   29.81    25.58    32.58    31.33    27.83  \n",
      "113  30.29  28.05  25.08   29.72    24.90    31.82    32.00    27.81  \n",
      "114  31.04  28.10  25.67   29.90    25.74    31.68    31.87    28.27  \n",
      "115  31.98  30.11  28.01   31.63    28.33    34.57    32.28    30.03  \n",
      "116  32.29  29.60  27.18   31.42    27.95    34.13    32.41    29.69  \n",
      "\n",
      "[117 rows x 18 columns]\n"
     ]
    }
   ],
   "source": [
    "import pandas as pd\n",
    "df=pd.read_csv(r\"C:\\Users\\yuvra\\Desktop\\temperatures.csv\")\n",
    "print(df)"
   ]
  },
  {
   "cell_type": "code",
   "execution_count": 47,
   "id": "6215026e-5081-4297-ae6c-5bd4251af02d",
   "metadata": {},
   "outputs": [
    {
     "name": "stdout",
     "output_type": "stream",
     "text": [
      "<class 'pandas.core.frame.DataFrame'>\n",
      "RangeIndex: 117 entries, 0 to 116\n",
      "Data columns (total 18 columns):\n",
      " #   Column   Non-Null Count  Dtype  \n",
      "---  ------   --------------  -----  \n",
      " 0   YEAR     117 non-null    int64  \n",
      " 1   JAN      117 non-null    float64\n",
      " 2   FEB      117 non-null    float64\n",
      " 3   MAR      117 non-null    float64\n",
      " 4   APR      117 non-null    float64\n",
      " 5   MAY      117 non-null    float64\n",
      " 6   JUN      117 non-null    float64\n",
      " 7   JUL      117 non-null    float64\n",
      " 8   AUG      117 non-null    float64\n",
      " 9   SEP      117 non-null    float64\n",
      " 10  OCT      117 non-null    float64\n",
      " 11  NOV      117 non-null    float64\n",
      " 12  DEC      117 non-null    float64\n",
      " 13  ANNUAL   117 non-null    float64\n",
      " 14  JAN-FEB  117 non-null    float64\n",
      " 15  MAR-MAY  117 non-null    float64\n",
      " 16  JUN-SEP  117 non-null    float64\n",
      " 17  OCT-DEC  117 non-null    float64\n",
      "dtypes: float64(17), int64(1)\n",
      "memory usage: 16.6 KB\n"
     ]
    }
   ],
   "source": [
    "df.info()"
   ]
  },
  {
   "cell_type": "code",
   "execution_count": 48,
   "id": "20d040d3-23fe-43fe-bf0b-db7550287e27",
   "metadata": {},
   "outputs": [
    {
     "data": {
      "text/html": [
       "<div>\n",
       "<style scoped>\n",
       "    .dataframe tbody tr th:only-of-type {\n",
       "        vertical-align: middle;\n",
       "    }\n",
       "\n",
       "    .dataframe tbody tr th {\n",
       "        vertical-align: top;\n",
       "    }\n",
       "\n",
       "    .dataframe thead th {\n",
       "        text-align: right;\n",
       "    }\n",
       "</style>\n",
       "<table border=\"1\" class=\"dataframe\">\n",
       "  <thead>\n",
       "    <tr style=\"text-align: right;\">\n",
       "      <th></th>\n",
       "      <th>YEAR</th>\n",
       "      <th>JAN</th>\n",
       "      <th>FEB</th>\n",
       "      <th>MAR</th>\n",
       "      <th>APR</th>\n",
       "      <th>MAY</th>\n",
       "      <th>JUN</th>\n",
       "      <th>JUL</th>\n",
       "      <th>AUG</th>\n",
       "      <th>SEP</th>\n",
       "      <th>OCT</th>\n",
       "      <th>NOV</th>\n",
       "      <th>DEC</th>\n",
       "      <th>ANNUAL</th>\n",
       "      <th>JAN-FEB</th>\n",
       "      <th>MAR-MAY</th>\n",
       "      <th>JUN-SEP</th>\n",
       "      <th>OCT-DEC</th>\n",
       "    </tr>\n",
       "  </thead>\n",
       "  <tbody>\n",
       "    <tr>\n",
       "      <th>count</th>\n",
       "      <td>117.000000</td>\n",
       "      <td>117.000000</td>\n",
       "      <td>117.000000</td>\n",
       "      <td>117.000000</td>\n",
       "      <td>117.000000</td>\n",
       "      <td>117.000000</td>\n",
       "      <td>117.000000</td>\n",
       "      <td>117.000000</td>\n",
       "      <td>117.000000</td>\n",
       "      <td>117.000000</td>\n",
       "      <td>117.000000</td>\n",
       "      <td>117.000000</td>\n",
       "      <td>117.000000</td>\n",
       "      <td>117.000000</td>\n",
       "      <td>117.000000</td>\n",
       "      <td>117.000000</td>\n",
       "      <td>117.000000</td>\n",
       "      <td>117.000000</td>\n",
       "    </tr>\n",
       "    <tr>\n",
       "      <th>mean</th>\n",
       "      <td>1959.000000</td>\n",
       "      <td>23.687436</td>\n",
       "      <td>25.597863</td>\n",
       "      <td>29.085983</td>\n",
       "      <td>31.975812</td>\n",
       "      <td>33.565299</td>\n",
       "      <td>32.774274</td>\n",
       "      <td>31.035897</td>\n",
       "      <td>30.507692</td>\n",
       "      <td>30.486752</td>\n",
       "      <td>29.766581</td>\n",
       "      <td>27.285470</td>\n",
       "      <td>24.608291</td>\n",
       "      <td>29.181368</td>\n",
       "      <td>24.629573</td>\n",
       "      <td>31.517607</td>\n",
       "      <td>31.198205</td>\n",
       "      <td>27.208120</td>\n",
       "    </tr>\n",
       "    <tr>\n",
       "      <th>std</th>\n",
       "      <td>33.919021</td>\n",
       "      <td>0.834588</td>\n",
       "      <td>1.150757</td>\n",
       "      <td>1.068451</td>\n",
       "      <td>0.889478</td>\n",
       "      <td>0.724905</td>\n",
       "      <td>0.633132</td>\n",
       "      <td>0.468818</td>\n",
       "      <td>0.476312</td>\n",
       "      <td>0.544295</td>\n",
       "      <td>0.705492</td>\n",
       "      <td>0.714518</td>\n",
       "      <td>0.782644</td>\n",
       "      <td>0.555555</td>\n",
       "      <td>0.911239</td>\n",
       "      <td>0.740585</td>\n",
       "      <td>0.420508</td>\n",
       "      <td>0.672003</td>\n",
       "    </tr>\n",
       "    <tr>\n",
       "      <th>min</th>\n",
       "      <td>1901.000000</td>\n",
       "      <td>22.000000</td>\n",
       "      <td>22.830000</td>\n",
       "      <td>26.680000</td>\n",
       "      <td>30.010000</td>\n",
       "      <td>31.930000</td>\n",
       "      <td>31.100000</td>\n",
       "      <td>29.760000</td>\n",
       "      <td>29.310000</td>\n",
       "      <td>29.070000</td>\n",
       "      <td>27.900000</td>\n",
       "      <td>25.700000</td>\n",
       "      <td>23.020000</td>\n",
       "      <td>28.110000</td>\n",
       "      <td>22.250000</td>\n",
       "      <td>29.920000</td>\n",
       "      <td>30.240000</td>\n",
       "      <td>25.740000</td>\n",
       "    </tr>\n",
       "    <tr>\n",
       "      <th>25%</th>\n",
       "      <td>1930.000000</td>\n",
       "      <td>23.100000</td>\n",
       "      <td>24.780000</td>\n",
       "      <td>28.370000</td>\n",
       "      <td>31.460000</td>\n",
       "      <td>33.110000</td>\n",
       "      <td>32.340000</td>\n",
       "      <td>30.740000</td>\n",
       "      <td>30.180000</td>\n",
       "      <td>30.120000</td>\n",
       "      <td>29.380000</td>\n",
       "      <td>26.790000</td>\n",
       "      <td>24.040000</td>\n",
       "      <td>28.760000</td>\n",
       "      <td>24.110000</td>\n",
       "      <td>31.040000</td>\n",
       "      <td>30.920000</td>\n",
       "      <td>26.700000</td>\n",
       "    </tr>\n",
       "    <tr>\n",
       "      <th>50%</th>\n",
       "      <td>1959.000000</td>\n",
       "      <td>23.680000</td>\n",
       "      <td>25.480000</td>\n",
       "      <td>29.040000</td>\n",
       "      <td>31.950000</td>\n",
       "      <td>33.510000</td>\n",
       "      <td>32.730000</td>\n",
       "      <td>31.000000</td>\n",
       "      <td>30.540000</td>\n",
       "      <td>30.520000</td>\n",
       "      <td>29.780000</td>\n",
       "      <td>27.300000</td>\n",
       "      <td>24.660000</td>\n",
       "      <td>29.090000</td>\n",
       "      <td>24.530000</td>\n",
       "      <td>31.470000</td>\n",
       "      <td>31.190000</td>\n",
       "      <td>27.210000</td>\n",
       "    </tr>\n",
       "    <tr>\n",
       "      <th>75%</th>\n",
       "      <td>1988.000000</td>\n",
       "      <td>24.180000</td>\n",
       "      <td>26.310000</td>\n",
       "      <td>29.610000</td>\n",
       "      <td>32.420000</td>\n",
       "      <td>34.030000</td>\n",
       "      <td>33.180000</td>\n",
       "      <td>31.330000</td>\n",
       "      <td>30.760000</td>\n",
       "      <td>30.810000</td>\n",
       "      <td>30.170000</td>\n",
       "      <td>27.720000</td>\n",
       "      <td>25.110000</td>\n",
       "      <td>29.470000</td>\n",
       "      <td>25.150000</td>\n",
       "      <td>31.890000</td>\n",
       "      <td>31.400000</td>\n",
       "      <td>27.610000</td>\n",
       "    </tr>\n",
       "    <tr>\n",
       "      <th>max</th>\n",
       "      <td>2017.000000</td>\n",
       "      <td>26.940000</td>\n",
       "      <td>29.720000</td>\n",
       "      <td>32.620000</td>\n",
       "      <td>35.380000</td>\n",
       "      <td>35.840000</td>\n",
       "      <td>34.480000</td>\n",
       "      <td>32.760000</td>\n",
       "      <td>31.840000</td>\n",
       "      <td>32.220000</td>\n",
       "      <td>32.290000</td>\n",
       "      <td>30.110000</td>\n",
       "      <td>28.010000</td>\n",
       "      <td>31.630000</td>\n",
       "      <td>28.330000</td>\n",
       "      <td>34.570000</td>\n",
       "      <td>32.410000</td>\n",
       "      <td>30.030000</td>\n",
       "    </tr>\n",
       "  </tbody>\n",
       "</table>\n",
       "</div>"
      ],
      "text/plain": [
       "              YEAR         JAN         FEB         MAR         APR  \\\n",
       "count   117.000000  117.000000  117.000000  117.000000  117.000000   \n",
       "mean   1959.000000   23.687436   25.597863   29.085983   31.975812   \n",
       "std      33.919021    0.834588    1.150757    1.068451    0.889478   \n",
       "min    1901.000000   22.000000   22.830000   26.680000   30.010000   \n",
       "25%    1930.000000   23.100000   24.780000   28.370000   31.460000   \n",
       "50%    1959.000000   23.680000   25.480000   29.040000   31.950000   \n",
       "75%    1988.000000   24.180000   26.310000   29.610000   32.420000   \n",
       "max    2017.000000   26.940000   29.720000   32.620000   35.380000   \n",
       "\n",
       "              MAY         JUN         JUL         AUG         SEP         OCT  \\\n",
       "count  117.000000  117.000000  117.000000  117.000000  117.000000  117.000000   \n",
       "mean    33.565299   32.774274   31.035897   30.507692   30.486752   29.766581   \n",
       "std      0.724905    0.633132    0.468818    0.476312    0.544295    0.705492   \n",
       "min     31.930000   31.100000   29.760000   29.310000   29.070000   27.900000   \n",
       "25%     33.110000   32.340000   30.740000   30.180000   30.120000   29.380000   \n",
       "50%     33.510000   32.730000   31.000000   30.540000   30.520000   29.780000   \n",
       "75%     34.030000   33.180000   31.330000   30.760000   30.810000   30.170000   \n",
       "max     35.840000   34.480000   32.760000   31.840000   32.220000   32.290000   \n",
       "\n",
       "              NOV         DEC      ANNUAL     JAN-FEB     MAR-MAY     JUN-SEP  \\\n",
       "count  117.000000  117.000000  117.000000  117.000000  117.000000  117.000000   \n",
       "mean    27.285470   24.608291   29.181368   24.629573   31.517607   31.198205   \n",
       "std      0.714518    0.782644    0.555555    0.911239    0.740585    0.420508   \n",
       "min     25.700000   23.020000   28.110000   22.250000   29.920000   30.240000   \n",
       "25%     26.790000   24.040000   28.760000   24.110000   31.040000   30.920000   \n",
       "50%     27.300000   24.660000   29.090000   24.530000   31.470000   31.190000   \n",
       "75%     27.720000   25.110000   29.470000   25.150000   31.890000   31.400000   \n",
       "max     30.110000   28.010000   31.630000   28.330000   34.570000   32.410000   \n",
       "\n",
       "          OCT-DEC  \n",
       "count  117.000000  \n",
       "mean    27.208120  \n",
       "std      0.672003  \n",
       "min     25.740000  \n",
       "25%     26.700000  \n",
       "50%     27.210000  \n",
       "75%     27.610000  \n",
       "max     30.030000  "
      ]
     },
     "execution_count": 48,
     "metadata": {},
     "output_type": "execute_result"
    }
   ],
   "source": [
    "df.describe()"
   ]
  },
  {
   "cell_type": "code",
   "execution_count": 49,
   "id": "24a1cbac-36a0-47d7-a0ed-3f4c0bd45d16",
   "metadata": {},
   "outputs": [],
   "source": [
    "a=df[\"YEAR\"]\n",
    "b=df[\"ANNUAL\"]"
   ]
  },
  {
   "cell_type": "code",
   "execution_count": 50,
   "id": "8a7a4b4b-226e-4871-b6d1-2e67a3b7260b",
   "metadata": {},
   "outputs": [
    {
     "data": {
      "text/plain": [
       "0      28.96\n",
       "1      29.22\n",
       "2      28.47\n",
       "3      28.49\n",
       "4      28.30\n",
       "       ...  \n",
       "112    29.81\n",
       "113    29.72\n",
       "114    29.90\n",
       "115    31.63\n",
       "116    31.42\n",
       "Name: ANNUAL, Length: 117, dtype: float64"
      ]
     },
     "execution_count": 50,
     "metadata": {},
     "output_type": "execute_result"
    }
   ],
   "source": [
    "a\n",
    "b"
   ]
  },
  {
   "cell_type": "code",
   "execution_count": 51,
   "id": "91590990-0492-4244-9f70-3774012a4467",
   "metadata": {},
   "outputs": [
    {
     "data": {
      "text/plain": [
       "(117, 18)"
      ]
     },
     "execution_count": 51,
     "metadata": {},
     "output_type": "execute_result"
    }
   ],
   "source": [
    "df.shape"
   ]
  },
  {
   "cell_type": "code",
   "execution_count": 52,
   "id": "e3b94ae4-adcc-42f6-b565-a86bdc954670",
   "metadata": {},
   "outputs": [
    {
     "data": {
      "text/plain": [
       "Index(['YEAR', 'JAN', 'FEB', 'MAR', 'APR', 'MAY', 'JUN', 'JUL', 'AUG', 'SEP',\n",
       "       'OCT', 'NOV', 'DEC', 'ANNUAL', 'JAN-FEB', 'MAR-MAY', 'JUN-SEP',\n",
       "       'OCT-DEC'],\n",
       "      dtype='object')"
      ]
     },
     "execution_count": 52,
     "metadata": {},
     "output_type": "execute_result"
    }
   ],
   "source": [
    "df.columns"
   ]
  },
  {
   "cell_type": "code",
   "execution_count": 53,
   "id": "de859855-0c81-41cb-9b79-4a13c6278b56",
   "metadata": {},
   "outputs": [
    {
     "data": {
      "text/plain": [
       "YEAR         int64\n",
       "JAN        float64\n",
       "FEB        float64\n",
       "MAR        float64\n",
       "APR        float64\n",
       "MAY        float64\n",
       "JUN        float64\n",
       "JUL        float64\n",
       "AUG        float64\n",
       "SEP        float64\n",
       "OCT        float64\n",
       "NOV        float64\n",
       "DEC        float64\n",
       "ANNUAL     float64\n",
       "JAN-FEB    float64\n",
       "MAR-MAY    float64\n",
       "JUN-SEP    float64\n",
       "OCT-DEC    float64\n",
       "dtype: object"
      ]
     },
     "execution_count": 53,
     "metadata": {},
     "output_type": "execute_result"
    }
   ],
   "source": [
    "df.dtypes"
   ]
  },
  {
   "cell_type": "code",
   "execution_count": 54,
   "id": "a88180b7-375f-426d-a1ca-b4098f5b036e",
   "metadata": {},
   "outputs": [
    {
     "data": {
      "text/plain": [
       "np.float64(30.50769230769231)"
      ]
     },
     "execution_count": 54,
     "metadata": {},
     "output_type": "execute_result"
    }
   ],
   "source": [
    "df[\"AUG\"].mean()"
   ]
  },
  {
   "cell_type": "code",
   "execution_count": 55,
   "id": "e7776bda-d801-4bfa-b242-a681581b2b53",
   "metadata": {},
   "outputs": [
    {
     "data": {
      "text/plain": [
       "0    31.7\n",
       "Name: APR, dtype: float64"
      ]
     },
     "execution_count": 55,
     "metadata": {},
     "output_type": "execute_result"
    }
   ],
   "source": [
    "df[\"APR\"].mode()"
   ]
  },
  {
   "cell_type": "code",
   "execution_count": 56,
   "id": "8f4d79d6-f6f7-4520-9cff-8001775262d8",
   "metadata": {},
   "outputs": [
    {
     "data": {
      "text/plain": [
       "0     27.04\n",
       "1     27.31\n",
       "2     27.62\n",
       "3     27.78\n",
       "4     28.00\n",
       "5     28.11\n",
       "6     28.21\n",
       "7     28.61\n",
       "8     28.70\n",
       "9     28.74\n",
       "10    28.75\n",
       "11    28.89\n",
       "12    28.90\n",
       "13    28.95\n",
       "14    29.04\n",
       "15    29.07\n",
       "16    30.32\n",
       "17    30.79\n",
       "Name: MAR, dtype: float64"
      ]
     },
     "execution_count": 56,
     "metadata": {},
     "output_type": "execute_result"
    }
   ],
   "source": [
    "df[\"MAR\"].mode()"
   ]
  },
  {
   "cell_type": "code",
   "execution_count": 57,
   "id": "44ddbd76-2b02-49e0-8bfb-fe0819549f59",
   "metadata": {},
   "outputs": [
    {
     "data": {
      "text/plain": [
       "np.float64(23.68)"
      ]
     },
     "execution_count": 57,
     "metadata": {},
     "output_type": "execute_result"
    }
   ],
   "source": [
    "df[\"JAN\"].median()"
   ]
  },
  {
   "cell_type": "code",
   "execution_count": 58,
   "id": "fb12548a-8685-47fd-9858-e29e78b1a059",
   "metadata": {},
   "outputs": [
    {
     "data": {
      "text/plain": [
       "YEAR       0\n",
       "JAN        0\n",
       "FEB        0\n",
       "MAR        0\n",
       "APR        0\n",
       "MAY        0\n",
       "JUN        0\n",
       "JUL        0\n",
       "AUG        0\n",
       "SEP        0\n",
       "OCT        0\n",
       "NOV        0\n",
       "DEC        0\n",
       "ANNUAL     0\n",
       "JAN-FEB    0\n",
       "MAR-MAY    0\n",
       "JUN-SEP    0\n",
       "OCT-DEC    0\n",
       "dtype: int64"
      ]
     },
     "execution_count": 58,
     "metadata": {},
     "output_type": "execute_result"
    }
   ],
   "source": [
    "(df==0).sum()"
   ]
  },
  {
   "cell_type": "code",
   "execution_count": 59,
   "id": "ed0213b7-f84a-4e74-8f17-3fa53b907fac",
   "metadata": {},
   "outputs": [
    {
     "data": {
      "text/plain": [
       "YEAR       0\n",
       "JAN        0\n",
       "FEB        0\n",
       "MAR        0\n",
       "APR        0\n",
       "MAY        0\n",
       "JUN        0\n",
       "JUL        0\n",
       "AUG        0\n",
       "SEP        0\n",
       "OCT        0\n",
       "NOV        0\n",
       "DEC        0\n",
       "ANNUAL     0\n",
       "JAN-FEB    0\n",
       "MAR-MAY    0\n",
       "JUN-SEP    0\n",
       "OCT-DEC    0\n",
       "dtype: int64"
      ]
     },
     "execution_count": 59,
     "metadata": {},
     "output_type": "execute_result"
    }
   ],
   "source": [
    "df.isnull().sum()"
   ]
  },
  {
   "cell_type": "code",
   "execution_count": 60,
   "id": "9ed3975e-d711-4597-9828-f467e0accb55",
   "metadata": {},
   "outputs": [
    {
     "data": {
      "text/plain": [
       "<bound method NDFrame.describe of      YEAR    JAN    FEB    MAR    APR    MAY    JUN    JUL    AUG    SEP  \\\n",
       "0    1901  22.40  24.14  29.07  31.91  33.41  33.18  31.21  30.39  30.47   \n",
       "1    1902  24.93  26.58  29.77  31.78  33.73  32.91  30.92  30.73  29.80   \n",
       "2    1903  23.44  25.03  27.83  31.39  32.91  33.00  31.34  29.98  29.85   \n",
       "3    1904  22.50  24.73  28.21  32.02  32.64  32.07  30.36  30.09  30.04   \n",
       "4    1905  22.00  22.83  26.68  30.01  33.32  33.25  31.44  30.68  30.12   \n",
       "..    ...    ...    ...    ...    ...    ...    ...    ...    ...    ...   \n",
       "112  2013  24.56  26.59  30.62  32.66  34.46  32.44  31.07  30.76  31.04   \n",
       "113  2014  23.83  25.97  28.95  32.74  33.77  34.15  31.85  31.32  30.68   \n",
       "114  2015  24.58  26.89  29.07  31.87  34.09  32.48  31.88  31.52  31.55   \n",
       "115  2016  26.94  29.72  32.62  35.38  35.72  34.03  31.64  31.79  31.66   \n",
       "116  2017  26.45  29.46  31.60  34.95  35.84  33.82  31.88  31.72  32.22   \n",
       "\n",
       "       OCT    NOV    DEC  ANNUAL  JAN-FEB  MAR-MAY  JUN-SEP  OCT-DEC  \n",
       "0    29.97  27.31  24.49   28.96    23.27    31.46    31.27    27.25  \n",
       "1    29.12  26.31  24.04   29.22    25.75    31.76    31.09    26.49  \n",
       "2    29.04  26.08  23.65   28.47    24.24    30.71    30.92    26.26  \n",
       "3    29.20  26.36  23.63   28.49    23.62    30.95    30.66    26.40  \n",
       "4    30.67  27.52  23.82   28.30    22.25    30.00    31.33    26.57  \n",
       "..     ...    ...    ...     ...      ...      ...      ...      ...  \n",
       "112  30.27  27.83  25.37   29.81    25.58    32.58    31.33    27.83  \n",
       "113  30.29  28.05  25.08   29.72    24.90    31.82    32.00    27.81  \n",
       "114  31.04  28.10  25.67   29.90    25.74    31.68    31.87    28.27  \n",
       "115  31.98  30.11  28.01   31.63    28.33    34.57    32.28    30.03  \n",
       "116  32.29  29.60  27.18   31.42    27.95    34.13    32.41    29.69  \n",
       "\n",
       "[117 rows x 18 columns]>"
      ]
     },
     "execution_count": 60,
     "metadata": {},
     "output_type": "execute_result"
    }
   ],
   "source": [
    "df.describe"
   ]
  },
  {
   "cell_type": "code",
   "execution_count": 61,
   "id": "8c005edd-728f-438a-839c-dccdca394fae",
   "metadata": {},
   "outputs": [
    {
     "data": {
      "text/html": [
       "<div>\n",
       "<style scoped>\n",
       "    .dataframe tbody tr th:only-of-type {\n",
       "        vertical-align: middle;\n",
       "    }\n",
       "\n",
       "    .dataframe tbody tr th {\n",
       "        vertical-align: top;\n",
       "    }\n",
       "\n",
       "    .dataframe thead th {\n",
       "        text-align: right;\n",
       "    }\n",
       "</style>\n",
       "<table border=\"1\" class=\"dataframe\">\n",
       "  <thead>\n",
       "    <tr style=\"text-align: right;\">\n",
       "      <th></th>\n",
       "      <th>YEAR</th>\n",
       "      <th>JAN</th>\n",
       "      <th>FEB</th>\n",
       "      <th>MAR</th>\n",
       "      <th>APR</th>\n",
       "      <th>MAY</th>\n",
       "      <th>JUN</th>\n",
       "      <th>JUL</th>\n",
       "      <th>AUG</th>\n",
       "      <th>SEP</th>\n",
       "      <th>OCT</th>\n",
       "      <th>NOV</th>\n",
       "      <th>DEC</th>\n",
       "      <th>ANNUAL</th>\n",
       "      <th>JAN-FEB</th>\n",
       "      <th>MAR-MAY</th>\n",
       "      <th>JUN-SEP</th>\n",
       "      <th>OCT-DEC</th>\n",
       "    </tr>\n",
       "  </thead>\n",
       "  <tbody>\n",
       "    <tr>\n",
       "      <th>count</th>\n",
       "      <td>117.000000</td>\n",
       "      <td>117.000000</td>\n",
       "      <td>117.000000</td>\n",
       "      <td>117.000000</td>\n",
       "      <td>117.000000</td>\n",
       "      <td>117.000000</td>\n",
       "      <td>117.000000</td>\n",
       "      <td>117.000000</td>\n",
       "      <td>117.000000</td>\n",
       "      <td>117.000000</td>\n",
       "      <td>117.000000</td>\n",
       "      <td>117.000000</td>\n",
       "      <td>117.000000</td>\n",
       "      <td>117.000000</td>\n",
       "      <td>117.000000</td>\n",
       "      <td>117.000000</td>\n",
       "      <td>117.000000</td>\n",
       "      <td>117.000000</td>\n",
       "    </tr>\n",
       "    <tr>\n",
       "      <th>mean</th>\n",
       "      <td>1959.000000</td>\n",
       "      <td>23.687436</td>\n",
       "      <td>25.597863</td>\n",
       "      <td>29.085983</td>\n",
       "      <td>31.975812</td>\n",
       "      <td>33.565299</td>\n",
       "      <td>32.774274</td>\n",
       "      <td>31.035897</td>\n",
       "      <td>30.507692</td>\n",
       "      <td>30.486752</td>\n",
       "      <td>29.766581</td>\n",
       "      <td>27.285470</td>\n",
       "      <td>24.608291</td>\n",
       "      <td>29.181368</td>\n",
       "      <td>24.629573</td>\n",
       "      <td>31.517607</td>\n",
       "      <td>31.198205</td>\n",
       "      <td>27.208120</td>\n",
       "    </tr>\n",
       "    <tr>\n",
       "      <th>std</th>\n",
       "      <td>33.919021</td>\n",
       "      <td>0.834588</td>\n",
       "      <td>1.150757</td>\n",
       "      <td>1.068451</td>\n",
       "      <td>0.889478</td>\n",
       "      <td>0.724905</td>\n",
       "      <td>0.633132</td>\n",
       "      <td>0.468818</td>\n",
       "      <td>0.476312</td>\n",
       "      <td>0.544295</td>\n",
       "      <td>0.705492</td>\n",
       "      <td>0.714518</td>\n",
       "      <td>0.782644</td>\n",
       "      <td>0.555555</td>\n",
       "      <td>0.911239</td>\n",
       "      <td>0.740585</td>\n",
       "      <td>0.420508</td>\n",
       "      <td>0.672003</td>\n",
       "    </tr>\n",
       "    <tr>\n",
       "      <th>min</th>\n",
       "      <td>1901.000000</td>\n",
       "      <td>22.000000</td>\n",
       "      <td>22.830000</td>\n",
       "      <td>26.680000</td>\n",
       "      <td>30.010000</td>\n",
       "      <td>31.930000</td>\n",
       "      <td>31.100000</td>\n",
       "      <td>29.760000</td>\n",
       "      <td>29.310000</td>\n",
       "      <td>29.070000</td>\n",
       "      <td>27.900000</td>\n",
       "      <td>25.700000</td>\n",
       "      <td>23.020000</td>\n",
       "      <td>28.110000</td>\n",
       "      <td>22.250000</td>\n",
       "      <td>29.920000</td>\n",
       "      <td>30.240000</td>\n",
       "      <td>25.740000</td>\n",
       "    </tr>\n",
       "    <tr>\n",
       "      <th>25%</th>\n",
       "      <td>1930.000000</td>\n",
       "      <td>23.100000</td>\n",
       "      <td>24.780000</td>\n",
       "      <td>28.370000</td>\n",
       "      <td>31.460000</td>\n",
       "      <td>33.110000</td>\n",
       "      <td>32.340000</td>\n",
       "      <td>30.740000</td>\n",
       "      <td>30.180000</td>\n",
       "      <td>30.120000</td>\n",
       "      <td>29.380000</td>\n",
       "      <td>26.790000</td>\n",
       "      <td>24.040000</td>\n",
       "      <td>28.760000</td>\n",
       "      <td>24.110000</td>\n",
       "      <td>31.040000</td>\n",
       "      <td>30.920000</td>\n",
       "      <td>26.700000</td>\n",
       "    </tr>\n",
       "    <tr>\n",
       "      <th>50%</th>\n",
       "      <td>1959.000000</td>\n",
       "      <td>23.680000</td>\n",
       "      <td>25.480000</td>\n",
       "      <td>29.040000</td>\n",
       "      <td>31.950000</td>\n",
       "      <td>33.510000</td>\n",
       "      <td>32.730000</td>\n",
       "      <td>31.000000</td>\n",
       "      <td>30.540000</td>\n",
       "      <td>30.520000</td>\n",
       "      <td>29.780000</td>\n",
       "      <td>27.300000</td>\n",
       "      <td>24.660000</td>\n",
       "      <td>29.090000</td>\n",
       "      <td>24.530000</td>\n",
       "      <td>31.470000</td>\n",
       "      <td>31.190000</td>\n",
       "      <td>27.210000</td>\n",
       "    </tr>\n",
       "    <tr>\n",
       "      <th>75%</th>\n",
       "      <td>1988.000000</td>\n",
       "      <td>24.180000</td>\n",
       "      <td>26.310000</td>\n",
       "      <td>29.610000</td>\n",
       "      <td>32.420000</td>\n",
       "      <td>34.030000</td>\n",
       "      <td>33.180000</td>\n",
       "      <td>31.330000</td>\n",
       "      <td>30.760000</td>\n",
       "      <td>30.810000</td>\n",
       "      <td>30.170000</td>\n",
       "      <td>27.720000</td>\n",
       "      <td>25.110000</td>\n",
       "      <td>29.470000</td>\n",
       "      <td>25.150000</td>\n",
       "      <td>31.890000</td>\n",
       "      <td>31.400000</td>\n",
       "      <td>27.610000</td>\n",
       "    </tr>\n",
       "    <tr>\n",
       "      <th>max</th>\n",
       "      <td>2017.000000</td>\n",
       "      <td>26.940000</td>\n",
       "      <td>29.720000</td>\n",
       "      <td>32.620000</td>\n",
       "      <td>35.380000</td>\n",
       "      <td>35.840000</td>\n",
       "      <td>34.480000</td>\n",
       "      <td>32.760000</td>\n",
       "      <td>31.840000</td>\n",
       "      <td>32.220000</td>\n",
       "      <td>32.290000</td>\n",
       "      <td>30.110000</td>\n",
       "      <td>28.010000</td>\n",
       "      <td>31.630000</td>\n",
       "      <td>28.330000</td>\n",
       "      <td>34.570000</td>\n",
       "      <td>32.410000</td>\n",
       "      <td>30.030000</td>\n",
       "    </tr>\n",
       "  </tbody>\n",
       "</table>\n",
       "</div>"
      ],
      "text/plain": [
       "              YEAR         JAN         FEB         MAR         APR  \\\n",
       "count   117.000000  117.000000  117.000000  117.000000  117.000000   \n",
       "mean   1959.000000   23.687436   25.597863   29.085983   31.975812   \n",
       "std      33.919021    0.834588    1.150757    1.068451    0.889478   \n",
       "min    1901.000000   22.000000   22.830000   26.680000   30.010000   \n",
       "25%    1930.000000   23.100000   24.780000   28.370000   31.460000   \n",
       "50%    1959.000000   23.680000   25.480000   29.040000   31.950000   \n",
       "75%    1988.000000   24.180000   26.310000   29.610000   32.420000   \n",
       "max    2017.000000   26.940000   29.720000   32.620000   35.380000   \n",
       "\n",
       "              MAY         JUN         JUL         AUG         SEP         OCT  \\\n",
       "count  117.000000  117.000000  117.000000  117.000000  117.000000  117.000000   \n",
       "mean    33.565299   32.774274   31.035897   30.507692   30.486752   29.766581   \n",
       "std      0.724905    0.633132    0.468818    0.476312    0.544295    0.705492   \n",
       "min     31.930000   31.100000   29.760000   29.310000   29.070000   27.900000   \n",
       "25%     33.110000   32.340000   30.740000   30.180000   30.120000   29.380000   \n",
       "50%     33.510000   32.730000   31.000000   30.540000   30.520000   29.780000   \n",
       "75%     34.030000   33.180000   31.330000   30.760000   30.810000   30.170000   \n",
       "max     35.840000   34.480000   32.760000   31.840000   32.220000   32.290000   \n",
       "\n",
       "              NOV         DEC      ANNUAL     JAN-FEB     MAR-MAY     JUN-SEP  \\\n",
       "count  117.000000  117.000000  117.000000  117.000000  117.000000  117.000000   \n",
       "mean    27.285470   24.608291   29.181368   24.629573   31.517607   31.198205   \n",
       "std      0.714518    0.782644    0.555555    0.911239    0.740585    0.420508   \n",
       "min     25.700000   23.020000   28.110000   22.250000   29.920000   30.240000   \n",
       "25%     26.790000   24.040000   28.760000   24.110000   31.040000   30.920000   \n",
       "50%     27.300000   24.660000   29.090000   24.530000   31.470000   31.190000   \n",
       "75%     27.720000   25.110000   29.470000   25.150000   31.890000   31.400000   \n",
       "max     30.110000   28.010000   31.630000   28.330000   34.570000   32.410000   \n",
       "\n",
       "          OCT-DEC  \n",
       "count  117.000000  \n",
       "mean    27.208120  \n",
       "std      0.672003  \n",
       "min     25.740000  \n",
       "25%     26.700000  \n",
       "50%     27.210000  \n",
       "75%     27.610000  \n",
       "max     30.030000  "
      ]
     },
     "execution_count": 61,
     "metadata": {},
     "output_type": "execute_result"
    }
   ],
   "source": [
    "df.describe()"
   ]
  },
  {
   "cell_type": "code",
   "execution_count": 62,
   "id": "de11ef3b-61ba-4a73-99f1-ef0f68a12e46",
   "metadata": {},
   "outputs": [
    {
     "name": "stdout",
     "output_type": "stream",
     "text": [
      "<class 'pandas.core.frame.DataFrame'>\n",
      "RangeIndex: 117 entries, 0 to 116\n",
      "Data columns (total 18 columns):\n",
      " #   Column   Non-Null Count  Dtype  \n",
      "---  ------   --------------  -----  \n",
      " 0   YEAR     117 non-null    int64  \n",
      " 1   JAN      117 non-null    float64\n",
      " 2   FEB      117 non-null    float64\n",
      " 3   MAR      117 non-null    float64\n",
      " 4   APR      117 non-null    float64\n",
      " 5   MAY      117 non-null    float64\n",
      " 6   JUN      117 non-null    float64\n",
      " 7   JUL      117 non-null    float64\n",
      " 8   AUG      117 non-null    float64\n",
      " 9   SEP      117 non-null    float64\n",
      " 10  OCT      117 non-null    float64\n",
      " 11  NOV      117 non-null    float64\n",
      " 12  DEC      117 non-null    float64\n",
      " 13  ANNUAL   117 non-null    float64\n",
      " 14  JAN-FEB  117 non-null    float64\n",
      " 15  MAR-MAY  117 non-null    float64\n",
      " 16  JUN-SEP  117 non-null    float64\n",
      " 17  OCT-DEC  117 non-null    float64\n",
      "dtypes: float64(17), int64(1)\n",
      "memory usage: 16.6 KB\n"
     ]
    }
   ],
   "source": [
    "df.info()"
   ]
  },
  {
   "cell_type": "code",
   "execution_count": 63,
   "id": "5f46dd1a-a289-4002-a8d5-8932d774de9e",
   "metadata": {},
   "outputs": [
    {
     "data": {
      "text/plain": [
       "(117, 18)"
      ]
     },
     "execution_count": 63,
     "metadata": {},
     "output_type": "execute_result"
    }
   ],
   "source": [
    "df.shape"
   ]
  },
  {
   "cell_type": "code",
   "execution_count": 64,
   "id": "a283cdda-96e5-48c9-bbb5-2018c8870250",
   "metadata": {},
   "outputs": [
    {
     "name": "stdout",
     "output_type": "stream",
     "text": [
      "Requirement already satisfied: seaborn in c:\\users\\yuvra\\appdata\\local\\programs\\python\\python312\\lib\\site-packages (0.13.2)\n",
      "Requirement already satisfied: numpy!=1.24.0,>=1.20 in c:\\users\\yuvra\\appdata\\local\\programs\\python\\python312\\lib\\site-packages (from seaborn) (2.1.2)\n",
      "Requirement already satisfied: pandas>=1.2 in c:\\users\\yuvra\\appdata\\local\\programs\\python\\python312\\lib\\site-packages (from seaborn) (2.2.3)\n",
      "Requirement already satisfied: matplotlib!=3.6.1,>=3.4 in c:\\users\\yuvra\\appdata\\local\\programs\\python\\python312\\lib\\site-packages (from seaborn) (3.9.2)\n",
      "Requirement already satisfied: contourpy>=1.0.1 in c:\\users\\yuvra\\appdata\\local\\programs\\python\\python312\\lib\\site-packages (from matplotlib!=3.6.1,>=3.4->seaborn) (1.3.0)\n",
      "Requirement already satisfied: cycler>=0.10 in c:\\users\\yuvra\\appdata\\local\\programs\\python\\python312\\lib\\site-packages (from matplotlib!=3.6.1,>=3.4->seaborn) (0.12.1)\n",
      "Requirement already satisfied: fonttools>=4.22.0 in c:\\users\\yuvra\\appdata\\local\\programs\\python\\python312\\lib\\site-packages (from matplotlib!=3.6.1,>=3.4->seaborn) (4.54.1)\n",
      "Requirement already satisfied: kiwisolver>=1.3.1 in c:\\users\\yuvra\\appdata\\local\\programs\\python\\python312\\lib\\site-packages (from matplotlib!=3.6.1,>=3.4->seaborn) (1.4.7)\n",
      "Requirement already satisfied: packaging>=20.0 in c:\\users\\yuvra\\appdata\\local\\programs\\python\\python312\\lib\\site-packages (from matplotlib!=3.6.1,>=3.4->seaborn) (24.1)\n",
      "Requirement already satisfied: pillow>=8 in c:\\users\\yuvra\\appdata\\local\\programs\\python\\python312\\lib\\site-packages (from matplotlib!=3.6.1,>=3.4->seaborn) (11.0.0)\n",
      "Requirement already satisfied: pyparsing>=2.3.1 in c:\\users\\yuvra\\appdata\\local\\programs\\python\\python312\\lib\\site-packages (from matplotlib!=3.6.1,>=3.4->seaborn) (3.2.0)\n",
      "Requirement already satisfied: python-dateutil>=2.7 in c:\\users\\yuvra\\appdata\\local\\programs\\python\\python312\\lib\\site-packages (from matplotlib!=3.6.1,>=3.4->seaborn) (2.9.0.post0)\n",
      "Requirement already satisfied: pytz>=2020.1 in c:\\users\\yuvra\\appdata\\local\\programs\\python\\python312\\lib\\site-packages (from pandas>=1.2->seaborn) (2024.2)\n",
      "Requirement already satisfied: tzdata>=2022.7 in c:\\users\\yuvra\\appdata\\local\\programs\\python\\python312\\lib\\site-packages (from pandas>=1.2->seaborn) (2024.2)\n",
      "Requirement already satisfied: six>=1.5 in c:\\users\\yuvra\\appdata\\local\\programs\\python\\python312\\lib\\site-packages (from python-dateutil>=2.7->matplotlib!=3.6.1,>=3.4->seaborn) (1.16.0)\n"
     ]
    },
    {
     "name": "stderr",
     "output_type": "stream",
     "text": [
      "\n",
      "[notice] A new release of pip is available: 24.2 -> 24.3.1\n",
      "[notice] To update, run: python.exe -m pip install --upgrade pip\n"
     ]
    }
   ],
   "source": [
    "!pip install seaborn"
   ]
  },
  {
   "cell_type": "code",
   "execution_count": 65,
   "id": "d3c98e4f-a3d5-460f-b5a2-cf77017f5779",
   "metadata": {},
   "outputs": [],
   "source": [
    "x=df[\"YEAR\"]\n",
    "y=df[\"ANNUAL\"]"
   ]
  },
  {
   "cell_type": "code",
   "execution_count": 66,
   "id": "90e73de5-825b-4483-8b89-1565d0981e84",
   "metadata": {},
   "outputs": [
    {
     "data": {
      "text/plain": [
       "0      28.96\n",
       "1      29.22\n",
       "2      28.47\n",
       "3      28.49\n",
       "4      28.30\n",
       "       ...  \n",
       "112    29.81\n",
       "113    29.72\n",
       "114    29.90\n",
       "115    31.63\n",
       "116    31.42\n",
       "Name: ANNUAL, Length: 117, dtype: float64"
      ]
     },
     "execution_count": 66,
     "metadata": {},
     "output_type": "execute_result"
    }
   ],
   "source": [
    "x\n",
    "y"
   ]
  },
  {
   "cell_type": "code",
   "execution_count": 67,
   "id": "55354eb4-87d1-4729-a166-cebf8dd66d81",
   "metadata": {},
   "outputs": [],
   "source": [
    "import seaborn as sns"
   ]
  },
  {
   "cell_type": "code",
   "execution_count": 68,
   "id": "e4545968-114c-4662-8913-eb780d35a4d2",
   "metadata": {},
   "outputs": [
    {
     "data": {
      "text/plain": [
       "<Axes: xlabel='YEAR', ylabel='ANNUAL'>"
      ]
     },
     "execution_count": 68,
     "metadata": {},
     "output_type": "execute_result"
    },
    {
     "data": {
      "image/png": "[encoded data removed]",
      "text/plain": [
       "<Figure size 640x480 with 1 Axes>"
      ]
     },
     "metadata": {},
     "output_type": "display_data"
    }
   ],
   "source": [
    "sns.scatterplot(x=x,y=y,data=df)"
   ]
  },
  {
   "cell_type": "code",
   "execution_count": 69,
   "id": "3ef58c56-bac9-4f47-aeb8-19c01a1d23e4",
   "metadata": {},
   "outputs": [
    {
     "data": {
      "text/plain": [
       "pandas.core.series.Series"
      ]
     },
     "execution_count": 69,
     "metadata": {},
     "output_type": "execute_result"
    }
   ],
   "source": [
    "type(x)"
   ]
  },
  {
   "cell_type": "code",
   "execution_count": 70,
   "id": "ba454fcb-37bb-4549-a647-820475c734e9",
   "metadata": {},
   "outputs": [],
   "source": [
    "from sklearn.model_selection import train_test_split\n",
    "x_train,x_test,y_train,y_test=train_test_split(x,y,test_size=0.3)"
   ]
  },
  {
   "cell_type": "code",
   "execution_count": 71,
   "id": "70927a54-6095-4b51-90b1-01faf4378306",
   "metadata": {},
   "outputs": [
    {
     "data": {
      "text/plain": [
       "46     1947\n",
       "18     1919\n",
       "106    2007\n",
       "104    2005\n",
       "58     1959\n",
       "102    2003\n",
       "37     1938\n",
       "11     1912\n",
       "22     1923\n",
       "114    2015\n",
       "3      1904\n",
       "86     1987\n",
       "90     1991\n",
       "55     1956\n",
       "93     1994\n",
       "74     1975\n",
       "64     1965\n",
       "29     1930\n",
       "4      1905\n",
       "113    2014\n",
       "78     1979\n",
       "82     1983\n",
       "34     1935\n",
       "21     1922\n",
       "67     1968\n",
       "1      1902\n",
       "88     1989\n",
       "85     1986\n",
       "75     1976\n",
       "95     1996\n",
       "73     1974\n",
       "72     1973\n",
       "91     1992\n",
       "60     1961\n",
       "38     1939\n",
       "111    2012\n",
       "Name: YEAR, dtype: int64"
      ]
     },
     "execution_count": 71,
     "metadata": {},
     "output_type": "execute_result"
    }
   ],
   "source": [
    "x_test"
   ]
  },
  {
   "cell_type": "code",
   "execution_count": 72,
   "id": "984cf4f8-73e0-418f-b65b-5b83f1dbed46",
   "metadata": {},
   "outputs": [
    {
     "data": {
      "text/plain": [
       "52     1953\n",
       "105    2006\n",
       "49     1950\n",
       "108    2009\n",
       "17     1918\n",
       "       ... \n",
       "30     1931\n",
       "12     1913\n",
       "16     1917\n",
       "56     1957\n",
       "45     1946\n",
       "Name: YEAR, Length: 81, dtype: int64"
      ]
     },
     "execution_count": 72,
     "metadata": {},
     "output_type": "execute_result"
    }
   ],
   "source": [
    "x_train"
   ]
  },
  {
   "cell_type": "code",
   "execution_count": 75,
   "id": "945b3a78-eb32-44af-9e55-9762ebf37d46",
   "metadata": {},
   "outputs": [
    {
     "name": "stdout",
     "output_type": "stream",
     "text": [
      "Requirement already satisfied: scikit-learn in c:\\users\\yuvra\\appdata\\local\\programs\\python\\python312\\lib\\site-packages (1.5.2)\n",
      "Requirement already satisfied: numpy>=1.19.5 in c:\\users\\yuvra\\appdata\\local\\programs\\python\\python312\\lib\\site-packages (from scikit-learn) (2.1.2)\n",
      "Requirement already satisfied: scipy>=1.6.0 in c:\\users\\yuvra\\appdata\\local\\programs\\python\\python312\\lib\\site-packages (from scikit-learn) (1.14.1)\n",
      "Requirement already satisfied: joblib>=1.2.0 in c:\\users\\yuvra\\appdata\\local\\programs\\python\\python312\\lib\\site-packages (from scikit-learn) (1.4.2)\n",
      "Requirement already satisfied: threadpoolctl>=3.1.0 in c:\\users\\yuvra\\appdata\\local\\programs\\python\\python312\\lib\\site-packages (from scikit-learn) (3.5.0)\n"
     ]
    },
    {
     "name": "stderr",
     "output_type": "stream",
     "text": [
      "\n",
      "[notice] A new release of pip is available: 24.2 -> 24.3.1\n",
      "[notice] To update, run: python.exe -m pip install --upgrade pip\n"
     ]
    }
   ],
   "source": [
    "!pip install scikit-learn\n",
    "\n"
   ]
  },
  {
   "cell_type": "code",
   "execution_count": null,
   "id": "714c1f8b-08a8-48c6-b7f2-4e6b8ec59257",
   "metadata": {},
   "outputs": [],
   "source": []
  },
  {
   "cell_type": "code",
   "execution_count": 79,
   "id": "9a5cd63d-fafb-4dc0-9031-3905bb659864",
   "metadata": {},
   "outputs": [
    {
     "data": {
      "text/html": [
       "<style>#sk-container-id-1 {\n",
       "  /* Definition of color scheme common for light and dark mode */\n",
       "  --sklearn-color-text: black;\n",
       "  --sklearn-color-line: gray;\n",
       "  /* Definition of color scheme for unfitted estimators */\n",
       "  --sklearn-color-unfitted-level-0: #fff5e6;\n",
       "  --sklearn-color-unfitted-level-1: #f6e4d2;\n",
       "  --sklearn-color-unfitted-level-2: #ffe0b3;\n",
       "  --sklearn-color-unfitted-level-3: chocolate;\n",
       "  /* Definition of color scheme for fitted estimators */\n",
       "  --sklearn-color-fitted-level-0: #f0f8ff;\n",
       "  --sklearn-color-fitted-level-1: #d4ebff;\n",
       "  --sklearn-color-fitted-level-2: #b3dbfd;\n",
       "  --sklearn-color-fitted-level-3: cornflowerblue;\n",
       "\n",
       "  /* Specific color for light theme */\n",
       "  --sklearn-color-text-on-default-background: var(--sg-text-color, var(--theme-code-foreground, var(--jp-content-font-color1, black)));\n",
       "  --sklearn-color-background: var(--sg-background-color, var(--theme-background, var(--jp-layout-color0, white)));\n",
       "  --sklearn-color-border-box: var(--sg-text-color, var(--theme-code-foreground, var(--jp-content-font-color1, black)));\n",
       "  --sklearn-color-icon: #696969;\n",
       "\n",
       "  @media (prefers-color-scheme: dark) {\n",
       "    /* Redefinition of color scheme for dark theme */\n",
       "    --sklearn-color-text-on-default-background: var(--sg-text-color, var(--theme-code-foreground, var(--jp-content-font-color1, white)));\n",
       "    --sklearn-color-background: var(--sg-background-color, var(--theme-background, var(--jp-layout-color0, #111)));\n",
       "    --sklearn-color-border-box: var(--sg-text-color, var(--theme-code-foreground, var(--jp-content-font-color1, white)));\n",
       "    --sklearn-color-icon: #878787;\n",
       "  }\n",
       "}\n",
       "\n",
       "#sk-container-id-1 {\n",
       "  color: var(--sklearn-color-text);\n",
       "}\n",
       "\n",
       "#sk-container-id-1 pre {\n",
       "  padding: 0;\n",
       "}\n",
       "\n",
       "#sk-container-id-1 input.sk-hidden--visually {\n",
       "  border: 0;\n",
       "  clip: rect(1px 1px 1px 1px);\n",
       "  clip: rect(1px, 1px, 1px, 1px);\n",
       "  height: 1px;\n",
       "  margin: -1px;\n",
       "  overflow: hidden;\n",
       "  padding: 0;\n",
       "  position: absolute;\n",
       "  width: 1px;\n",
       "}\n",
       "\n",
       "#sk-container-id-1 div.sk-dashed-wrapped {\n",
       "  border: 1px dashed var(--sklearn-color-line);\n",
       "  margin: 0 0.4em 0.5em 0.4em;\n",
       "  box-sizing: border-box;\n",
       "  padding-bottom: 0.4em;\n",
       "  background-color: var(--sklearn-color-background);\n",
       "}\n",
       "\n",
       "#sk-container-id-1 div.sk-container {\n",
       "  /* jupyter's `normalize.less` sets `[hidden] { display: none; }`\n",
       "     but bootstrap.min.css set `[hidden] { display: none !important; }`\n",
       "     so we also need the `!important` here to be able to override the\n",
       "     default hidden behavior on the sphinx rendered scikit-learn.org.\n",
       "     See: https://github.com/scikit-learn/scikit-learn/issues/21755 */\n",
       "  display: inline-block !important;\n",
       "  position: relative;\n",
       "}\n",
       "\n",
       "#sk-container-id-1 div.sk-text-repr-fallback {\n",
       "  display: none;\n",
       "}\n",
       "\n",
       "div.sk-parallel-item,\n",
       "div.sk-serial,\n",
       "div.sk-item {\n",
       "  /* draw centered vertical line to link estimators */\n",
       "  background-image: linear-gradient(var(--sklearn-color-text-on-default-background), var(--sklearn-color-text-on-default-background));\n",
       "  background-size: 2px 100%;\n",
       "  background-repeat: no-repeat;\n",
       "  background-position: center center;\n",
       "}\n",
       "\n",
       "/* Parallel-specific style estimator block */\n",
       "\n",
       "#sk-container-id-1 div.sk-parallel-item::after {\n",
       "  content: \"\";\n",
       "  width: 100%;\n",
       "  border-bottom: 2px solid var(--sklearn-color-text-on-default-background);\n",
       "  flex-grow: 1;\n",
       "}\n",
       "\n",
       "#sk-container-id-1 div.sk-parallel {\n",
       "  display: flex;\n",
       "  align-items: stretch;\n",
       "  justify-content: center;\n",
       "  background-color: var(--sklearn-color-background);\n",
       "  position: relative;\n",
       "}\n",
       "\n",
       "#sk-container-id-1 div.sk-parallel-item {\n",
       "  display: flex;\n",
       "  flex-direction: column;\n",
       "}\n",
       "\n",
       "#sk-container-id-1 div.sk-parallel-item:first-child::after {\n",
       "  align-self: flex-end;\n",
       "  width: 50%;\n",
       "}\n",
       "\n",
       "#sk-container-id-1 div.sk-parallel-item:last-child::after {\n",
       "  align-self: flex-start;\n",
       "  width: 50%;\n",
       "}\n",
       "\n",
       "#sk-container-id-1 div.sk-parallel-item:only-child::after {\n",
       "  width: 0;\n",
       "}\n",
       "\n",
       "/* Serial-specific style estimator block */\n",
       "\n",
       "#sk-container-id-1 div.sk-serial {\n",
       "  display: flex;\n",
       "  flex-direction: column;\n",
       "  align-items: center;\n",
       "  background-color: var(--sklearn-color-background);\n",
       "  padding-right: 1em;\n",
       "  padding-left: 1em;\n",
       "}\n",
       "\n",
       "\n",
       "/* Toggleable style: style used for estimator/Pipeline/ColumnTransformer box that is\n",
       "clickable and can be expanded/collapsed.\n",
       "- Pipeline and ColumnTransformer use this feature and define the default style\n",
       "- Estimators will overwrite some part of the style using the `sk-estimator` class\n",
       "*/\n",
       "\n",
       "/* Pipeline and ColumnTransformer style (default) */\n",
       "\n",
       "#sk-container-id-1 div.sk-toggleable {\n",
       "  /* Default theme specific background. It is overwritten whether we have a\n",
       "  specific estimator or a Pipeline/ColumnTransformer */\n",
       "  background-color: var(--sklearn-color-background);\n",
       "}\n",
       "\n",
       "/* Toggleable label */\n",
       "#sk-container-id-1 label.sk-toggleable__label {\n",
       "  cursor: pointer;\n",
       "  display: block;\n",
       "  width: 100%;\n",
       "  margin-bottom: 0;\n",
       "  padding: 0.5em;\n",
       "  box-sizing: border-box;\n",
       "  text-align: center;\n",
       "}\n",
       "\n",
       "#sk-container-id-1 label.sk-toggleable__label-arrow:before {\n",
       "  /* Arrow on the left of the label */\n",
       "  content: \"▸\";\n",
       "  float: left;\n",
       "  margin-right: 0.25em;\n",
       "  color: var(--sklearn-color-icon);\n",
       "}\n",
       "\n",
       "#sk-container-id-1 label.sk-toggleable__label-arrow:hover:before {\n",
       "  color: var(--sklearn-color-text);\n",
       "}\n",
       "\n",
       "/* Toggleable content - dropdown */\n",
       "\n",
       "#sk-container-id-1 div.sk-toggleable__content {\n",
       "  max-height: 0;\n",
       "  max-width: 0;\n",
       "  overflow: hidden;\n",
       "  text-align: left;\n",
       "  /* unfitted */\n",
       "  background-color: var(--sklearn-color-unfitted-level-0);\n",
       "}\n",
       "\n",
       "#sk-container-id-1 div.sk-toggleable__content.fitted {\n",
       "  /* fitted */\n",
       "  background-color: var(--sklearn-color-fitted-level-0);\n",
       "}\n",
       "\n",
       "#sk-container-id-1 div.sk-toggleable__content pre {\n",
       "  margin: 0.2em;\n",
       "  border-radius: 0.25em;\n",
       "  color: var(--sklearn-color-text);\n",
       "  /* unfitted */\n",
       "  background-color: var(--sklearn-color-unfitted-level-0);\n",
       "}\n",
       "\n",
       "#sk-container-id-1 div.sk-toggleable__content.fitted pre {\n",
       "  /* unfitted */\n",
       "  background-color: var(--sklearn-color-fitted-level-0);\n",
       "}\n",
       "\n",
       "#sk-container-id-1 input.sk-toggleable__control:checked~div.sk-toggleable__content {\n",
       "  /* Expand drop-down */\n",
       "  max-height: 200px;\n",
       "  max-width: 100%;\n",
       "  overflow: auto;\n",
       "}\n",
       "\n",
       "#sk-container-id-1 input.sk-toggleable__control:checked~label.sk-toggleable__label-arrow:before {\n",
       "  content: \"▾\";\n",
       "}\n",
       "\n",
       "/* Pipeline/ColumnTransformer-specific style */\n",
       "\n",
       "#sk-container-id-1 div.sk-label input.sk-toggleable__control:checked~label.sk-toggleable__label {\n",
       "  color: var(--sklearn-color-text);\n",
       "  background-color: var(--sklearn-color-unfitted-level-2);\n",
       "}\n",
       "\n",
       "#sk-container-id-1 div.sk-label.fitted input.sk-toggleable__control:checked~label.sk-toggleable__label {\n",
       "  background-color: var(--sklearn-color-fitted-level-2);\n",
       "}\n",
       "\n",
       "/* Estimator-specific style */\n",
       "\n",
       "/* Colorize estimator box */\n",
       "#sk-container-id-1 div.sk-estimator input.sk-toggleable__control:checked~label.sk-toggleable__label {\n",
       "  /* unfitted */\n",
       "  background-color: var(--sklearn-color-unfitted-level-2);\n",
       "}\n",
       "\n",
       "#sk-container-id-1 div.sk-estimator.fitted input.sk-toggleable__control:checked~label.sk-toggleable__label {\n",
       "  /* fitted */\n",
       "  background-color: var(--sklearn-color-fitted-level-2);\n",
       "}\n",
       "\n",
       "#sk-container-id-1 div.sk-label label.sk-toggleable__label,\n",
       "#sk-container-id-1 div.sk-label label {\n",
       "  /* The background is the default theme color */\n",
       "  color: var(--sklearn-color-text-on-default-background);\n",
       "}\n",
       "\n",
       "/* On hover, darken the color of the background */\n",
       "#sk-container-id-1 div.sk-label:hover label.sk-toggleable__label {\n",
       "  color: var(--sklearn-color-text);\n",
       "  background-color: var(--sklearn-color-unfitted-level-2);\n",
       "}\n",
       "\n",
       "/* Label box, darken color on hover, fitted */\n",
       "#sk-container-id-1 div.sk-label.fitted:hover label.sk-toggleable__label.fitted {\n",
       "  color: var(--sklearn-color-text);\n",
       "  background-color: var(--sklearn-color-fitted-level-2);\n",
       "}\n",
       "\n",
       "/* Estimator label */\n",
       "\n",
       "#sk-container-id-1 div.sk-label label {\n",
       "  font-family: monospace;\n",
       "  font-weight: bold;\n",
       "  display: inline-block;\n",
       "  line-height: 1.2em;\n",
       "}\n",
       "\n",
       "#sk-container-id-1 div.sk-label-container {\n",
       "  text-align: center;\n",
       "}\n",
       "\n",
       "/* Estimator-specific */\n",
       "#sk-container-id-1 div.sk-estimator {\n",
       "  font-family: monospace;\n",
       "  border: 1px dotted var(--sklearn-color-border-box);\n",
       "  border-radius: 0.25em;\n",
       "  box-sizing: border-box;\n",
       "  margin-bottom: 0.5em;\n",
       "  /* unfitted */\n",
       "  background-color: var(--sklearn-color-unfitted-level-0);\n",
       "}\n",
       "\n",
       "#sk-container-id-1 div.sk-estimator.fitted {\n",
       "  /* fitted */\n",
       "  background-color: var(--sklearn-color-fitted-level-0);\n",
       "}\n",
       "\n",
       "/* on hover */\n",
       "#sk-container-id-1 div.sk-estimator:hover {\n",
       "  /* unfitted */\n",
       "  background-color: var(--sklearn-color-unfitted-level-2);\n",
       "}\n",
       "\n",
       "#sk-container-id-1 div.sk-estimator.fitted:hover {\n",
       "  /* fitted */\n",
       "  background-color: var(--sklearn-color-fitted-level-2);\n",
       "}\n",
       "\n",
       "/* Specification for estimator info (e.g. \"i\" and \"?\") */\n",
       "\n",
       "/* Common style for \"i\" and \"?\" */\n",
       "\n",
       ".sk-estimator-doc-link,\n",
       "a:link.sk-estimator-doc-link,\n",
       "a:visited.sk-estimator-doc-link {\n",
       "  float: right;\n",
       "  font-size: smaller;\n",
       "  line-height: 1em;\n",
       "  font-family: monospace;\n",
       "  background-color: var(--sklearn-color-background);\n",
       "  border-radius: 1em;\n",
       "  height: 1em;\n",
       "  width: 1em;\n",
       "  text-decoration: none !important;\n",
       "  margin-left: 1ex;\n",
       "  /* unfitted */\n",
       "  border: var(--sklearn-color-unfitted-level-1) 1pt solid;\n",
       "  color: var(--sklearn-color-unfitted-level-1);\n",
       "}\n",
       "\n",
       ".sk-estimator-doc-link.fitted,\n",
       "a:link.sk-estimator-doc-link.fitted,\n",
       "a:visited.sk-estimator-doc-link.fitted {\n",
       "  /* fitted */\n",
       "  border: var(--sklearn-color-fitted-level-1) 1pt solid;\n",
       "  color: var(--sklearn-color-fitted-level-1);\n",
       "}\n",
       "\n",
       "/* On hover */\n",
       "div.sk-estimator:hover .sk-estimator-doc-link:hover,\n",
       ".sk-estimator-doc-link:hover,\n",
       "div.sk-label-container:hover .sk-estimator-doc-link:hover,\n",
       ".sk-estimator-doc-link:hover {\n",
       "  /* unfitted */\n",
       "  background-color: var(--sklearn-color-unfitted-level-3);\n",
       "  color: var(--sklearn-color-background);\n",
       "  text-decoration: none;\n",
       "}\n",
       "\n",
       "div.sk-estimator.fitted:hover .sk-estimator-doc-link.fitted:hover,\n",
       ".sk-estimator-doc-link.fitted:hover,\n",
       "div.sk-label-container:hover .sk-estimator-doc-link.fitted:hover,\n",
       ".sk-estimator-doc-link.fitted:hover {\n",
       "  /* fitted */\n",
       "  background-color: var(--sklearn-color-fitted-level-3);\n",
       "  color: var(--sklearn-color-background);\n",
       "  text-decoration: none;\n",
       "}\n",
       "\n",
       "/* Span, style for the box shown on hovering the info icon */\n",
       ".sk-estimator-doc-link span {\n",
       "  display: none;\n",
       "  z-index: 9999;\n",
       "  position: relative;\n",
       "  font-weight: normal;\n",
       "  right: .2ex;\n",
       "  padding: .5ex;\n",
       "  margin: .5ex;\n",
       "  width: min-content;\n",
       "  min-width: 20ex;\n",
       "  max-width: 50ex;\n",
       "  color: var(--sklearn-color-text);\n",
       "  box-shadow: 2pt 2pt 4pt #999;\n",
       "  /* unfitted */\n",
       "  background: var(--sklearn-color-unfitted-level-0);\n",
       "  border: .5pt solid var(--sklearn-color-unfitted-level-3);\n",
       "}\n",
       "\n",
       ".sk-estimator-doc-link.fitted span {\n",
       "  /* fitted */\n",
       "  background: var(--sklearn-color-fitted-level-0);\n",
       "  border: var(--sklearn-color-fitted-level-3);\n",
       "}\n",
       "\n",
       ".sk-estimator-doc-link:hover span {\n",
       "  display: block;\n",
       "}\n",
       "\n",
       "/* \"?\"-specific style due to the `<a>` HTML tag */\n",
       "\n",
       "#sk-container-id-1 a.estimator_doc_link {\n",
       "  float: right;\n",
       "  font-size: 1rem;\n",
       "  line-height: 1em;\n",
       "  font-family: monospace;\n",
       "  background-color: var(--sklearn-color-background);\n",
       "  border-radius: 1rem;\n",
       "  height: 1rem;\n",
       "  width: 1rem;\n",
       "  text-decoration: none;\n",
       "  /* unfitted */\n",
       "  color: var(--sklearn-color-unfitted-level-1);\n",
       "  border: var(--sklearn-color-unfitted-level-1) 1pt solid;\n",
       "}\n",
       "\n",
       "#sk-container-id-1 a.estimator_doc_link.fitted {\n",
       "  /* fitted */\n",
       "  border: var(--sklearn-color-fitted-level-1) 1pt solid;\n",
       "  color: var(--sklearn-color-fitted-level-1);\n",
       "}\n",
       "\n",
       "/* On hover */\n",
       "#sk-container-id-1 a.estimator_doc_link:hover {\n",
       "  /* unfitted */\n",
       "  background-color: var(--sklearn-color-unfitted-level-3);\n",
       "  color: var(--sklearn-color-background);\n",
       "  text-decoration: none;\n",
       "}\n",
       "\n",
       "#sk-container-id-1 a.estimator_doc_link.fitted:hover {\n",
       "  /* fitted */\n",
       "  background-color: var(--sklearn-color-fitted-level-3);\n",
       "}\n",
       "</style><div id=\"sk-container-id-1\" class=\"sk-top-container\"><div class=\"sk-text-repr-fallback\"><pre>LinearRegression()</pre><b>In a Jupyter environment, please rerun this cell to show the HTML representation or trust the notebook. <br />On GitHub, the HTML representation is unable to render, please try loading this page with nbviewer.org.</b></div><div class=\"sk-container\" hidden><div class=\"sk-item\"><div class=\"sk-estimator fitted sk-toggleable\"><input class=\"sk-toggleable__control sk-hidden--visually\" id=\"sk-estimator-id-1\" type=\"checkbox\" checked><label for=\"sk-estimator-id-1\" class=\"sk-toggleable__label fitted sk-toggleable__label-arrow fitted\">&nbsp;&nbsp;LinearRegression<a class=\"sk-estimator-doc-link fitted\" rel=\"noreferrer\" target=\"_blank\" href=\"https://scikit-learn.org/1.5/modules/generated/sklearn.linear_model.LinearRegression.html\">?<span>Documentation for LinearRegression</span></a><span class=\"sk-estimator-doc-link fitted\">i<span>Fitted</span></span></label><div class=\"sk-toggleable__content fitted\"><pre>LinearRegression()</pre></div> </div></div></div></div>"
      ],
      "text/plain": [
       "LinearRegression()"
      ]
     },
     "execution_count": 79,
     "metadata": {},
     "output_type": "execute_result"
    }
   ],
   "source": [
    "from sklearn.linear_model import LinearRegression\n",
    "model=LinearRegression()\n",
    "model.fit(x_train,y_train)"
   ]
  },
  {
   "cell_type": "code",
   "execution_count": 93,
   "id": "d839ef98-f235-4f62-8a3c-b14b7d70ace2",
   "metadata": {},
   "outputs": [],
   "source": [
    "y_predicted=model.predict(x_test)"
   ]
  },
  {
   "cell_type": "code",
   "execution_count": 81,
   "id": "4f7c0d0e-e344-47ee-97ff-8b89c7c11e1c",
   "metadata": {},
   "outputs": [],
   "source": [
    "x_test = x_test.values.reshape(-1, 1)  # If x_test is a 1D array\n"
   ]
  },
  {
   "cell_type": "code",
   "execution_count": 82,
   "id": "39cbc27b-fd74-4e94-a96f-83bb5214297c",
   "metadata": {},
   "outputs": [],
   "source": [
    "y_predicted=model.predict(x_test)"
   ]
  },
  {
   "cell_type": "code",
   "execution_count": 83,
   "id": "6b97a5d3-c52f-450f-832a-2dac00dc99ee",
   "metadata": {},
   "outputs": [
    {
     "data": {
      "text/plain": [
       "array([0.01466945])"
      ]
     },
     "execution_count": 83,
     "metadata": {},
     "output_type": "execute_result"
    }
   ],
   "source": [
    "model.coef_"
   ]
  },
  {
   "cell_type": "code",
   "execution_count": 84,
   "id": "eb64e16b-3884-4c6a-9029-288eb5d2b38c",
   "metadata": {},
   "outputs": [
    {
     "data": {
      "text/plain": [
       "np.float64(0.4937826185610703)"
      ]
     },
     "execution_count": 84,
     "metadata": {},
     "output_type": "execute_result"
    }
   ],
   "source": [
    "model.intercept_"
   ]
  },
  {
   "cell_type": "code",
   "execution_count": 85,
   "id": "1e74214b-8822-4592-b489-38bc93760018",
   "metadata": {},
   "outputs": [
    {
     "data": {
      "image/png": "[encoded data removed]",
      "text/plain": [
       "<Figure size 640x480 with 1 Axes>"
      ]
     },
     "metadata": {},
     "output_type": "display_data"
    }
   ],
   "source": [
    "import matplotlib.pyplot as plt\n",
    "plt.scatter(x_train,y_train,color='blue')\n",
    "plt.plot(x_test,y_predicted,linewidth=3,color='black')\n",
    "plt.title(\"Temperature Vs Year\")\n",
    "plt.xlabel(\"Year\")\n",
    "plt.ylabel(\"Annual Temperature\")\n",
    "plt.show()"
   ]
  },
  {
   "cell_type": "code",
   "execution_count": 86,
   "id": "c60319a1-e002-4478-91c4-6349c840d248",
   "metadata": {},
   "outputs": [
    {
     "data": {
      "text/plain": [
       "<Axes: ylabel='ANNUAL'>"
      ]
     },
     "execution_count": 86,
     "metadata": {},
     "output_type": "execute_result"
    },
    {
     "data": {
      "image/png": "[encoded data removed]",
      "text/plain": [
       "<Figure size 640x480 with 1 Axes>"
      ]
     },
     "metadata": {},
     "output_type": "display_data"
    }
   ],
   "source": [
    "sns.regplot(data=df,x=x_train,y=y_train)"
   ]
  },
  {
   "cell_type": "code",
   "execution_count": 89,
   "id": "7cb7e0de-0a3b-48f6-a3c7-fa4c4eea73b3",
   "metadata": {},
   "outputs": [],
   "source": [
    "from sklearn.metrics import mean_absolute_error,mean_squared_error,r2_score"
   ]
  },
  {
   "cell_type": "code",
   "execution_count": 90,
   "id": "d309f9d5-4849-42af-a89a-c7f1424e4dc0",
   "metadata": {},
   "outputs": [
    {
     "data": {
      "text/plain": [
       "np.float64(0.09864979529933114)"
      ]
     },
     "execution_count": 90,
     "metadata": {},
     "output_type": "execute_result"
    }
   ],
   "source": [
    "mean_squared_error(y_test,y_predicted)"
   ]
  },
  {
   "cell_type": "code",
   "execution_count": 91,
   "id": "afd92b93-3de6-437c-b8e8-2ad80f58b56c",
   "metadata": {},
   "outputs": [
    {
     "data": {
      "text/plain": [
       "np.float64(0.09864979529933114)"
      ]
     },
     "execution_count": 91,
     "metadata": {},
     "output_type": "execute_result"
    }
   ],
   "source": [
    "mean_squared_error(y_test,y_predicted)"
   ]
  },
  {
   "cell_type": "code",
   "execution_count": 92,
   "id": "6059b4ec-5c41-475e-80d9-3995aed5d3d3",
   "metadata": {},
   "outputs": [
    {
     "data": {
      "text/plain": [
       "0.4492503837885795"
      ]
     },
     "execution_count": 92,
     "metadata": {},
     "output_type": "execute_result"
    }
   ],
   "source": [
    "r2_score(y_test,y_predicted)"
   ]
  },
  {
   "cell_type": "code",
   "execution_count": null,
   "id": "a17a5b0c-9cf5-4f9c-95db-5e159bffef55",
   "metadata": {},
   "outputs": [],
   "source": []
  }
 ],
 "metadata": {
  "kernelspec": {
   "display_name": "Python 3 (ipykernel)",
   "language": "python",
   "name": "python3"
  },
  "language_info": {
   "codemirror_mode": {
    "name": "ipython",
    "version": 3
   },
   "file_extension": ".py",
   "mimetype": "text/x-python",
   "name": "python",
   "nbconvert_exporter": "python",
   "pygments_lexer": "ipython3",
   "version": "3.12.4"
  }
 },
 "nbformat": 4,
 "nbformat_minor": 5
}
